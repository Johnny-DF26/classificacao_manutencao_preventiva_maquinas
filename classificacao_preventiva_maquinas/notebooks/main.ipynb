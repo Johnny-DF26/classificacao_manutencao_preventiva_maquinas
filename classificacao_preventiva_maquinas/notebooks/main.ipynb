{
 "cells": [
  {
   "cell_type": "markdown",
   "metadata": {},
   "source": [
    "## <font color='red'>**1. Situação Problema**"
   ]
  },
  {
   "cell_type": "markdown",
   "metadata": {},
   "source": [
    "### **Classificação de manutenção preditiva de máquinas**\n",
    "\n",
    "Conjunto de dados para prever falha de máquina (binário) e tipo (multiclasse)\n",
    "\n",
    "Sobre o conjunto de dados:\\\n",
    "Conjunto de dados de classificação de manutenção preditiva de máquinas.\n",
    "Como os conjuntos de dados reais de manutenção preditiva são geralmente difíceis de obter e, em particular, difíceis de publicar, apresentamos e fornecemos um conjunto de dados sintético que reflete a manutenção preditiva real encontrada na indústria, até onde sabemos.\n",
    "\n",
    "O conjunto de dados consiste em 10.000 pontos de dados armazenados como linhas com 14 recursos em colunas:\n",
    "\n",
    "- **UID**: identificador exclusivo variando de 1 a 10.000;\n",
    "- **productID**: consistindo em uma letra L, M ou H para baixa (50% de todos os produtos), média (30%) e alta (20%) como variantes de qualidade do produto e um número de série específico da variante;\n",
    "- **temperatura do ar [K]**: gerada usando um processo de passeio aleatório posteriormente normalizado para um desvio padrão de 2 K em torno de 300 K;\n",
    "- **temperatura do processo [K]**: gerada usando um processo de passeio aleatório normalizado para um desvio padrão de 1 K, adicionado à - temperatura do ar mais 10 K;\n",
    "- **velocidade de rotação [rpm]**: calculada a partir de potência de 2860 W, sobreposta a um ruído normalmente distribuído;\n",
    "- **torque [Nm]**: os valores de torque são normalmente distribuídos em torno de 40 Nm com Ïƒ = 10 Nm e sem valores negativos;\n",
    "- **desgaste da ferramenta [min]**: As variantes de qualidade H/M/L adicionam 5/3/2 minutos de desgaste da ferramenta à ferramenta utilizada no processo. e um rótulo de \"***falha da máquina***\" que indica se a máquina falhou neste ponto de dados específico para qualquer um dos seguintes modos de falha.\n",
    "\n",
    "Alvo: Falha ou Não\n",
    "Tipo de falha: Tipo de falha\n",
    "\n",
    "Reconhecimentos:\n",
    "\n",
    "- Kaggle: https://www.kaggle.com/datasets/shivamb/machine-predictive-maintenance-classification/data\\\n",
    "- UCI: https://archive.ics.uci.edu/ml/datasets/AI4I+2020+Predictive+Maintenance+Dataset"
   ]
  },
  {
   "cell_type": "markdown",
   "metadata": {},
   "source": [
    "## <font color='yellow'>**2. Classificação Binária**\n"
   ]
  },
  {
   "cell_type": "markdown",
   "metadata": {},
   "source": [
    "### <font color='green'>**2.1 Bibliotecas e Configurações**\n"
   ]
  },
  {
   "cell_type": "code",
   "execution_count": 3,
   "metadata": {},
   "outputs": [],
   "source": [
    "# Bibliotecas\n",
    "import numpy as np\n",
    "import pandas as pd\n",
    "import matplotlib.pyplot as plt\n",
    "import seaborn as sns"
   ]
  },
  {
   "cell_type": "code",
   "execution_count": 4,
   "metadata": {},
   "outputs": [],
   "source": [
    "# Configurações\n",
    "\n",
    "\n"
   ]
  },
  {
   "cell_type": "markdown",
   "metadata": {},
   "source": [
    "### <font color='green'>**2.2 Base de Dados**\n"
   ]
  },
  {
   "cell_type": "markdown",
   "metadata": {},
   "source": [
    "#### <font color='pink'>**2.2.1 Fonte dos dados**\n"
   ]
  },
  {
   "cell_type": "markdown",
   "metadata": {},
   "source": [
    "#### <font color='pink'>**2.2.2 Visualização dos dados e seus atributos**\n"
   ]
  },
  {
   "cell_type": "markdown",
   "metadata": {},
   "source": [
    "### <font color='green'>**2.3 Análise Inicial**\n"
   ]
  },
  {
   "cell_type": "markdown",
   "metadata": {},
   "source": [
    "#### <font color='pink'>**2.3.1 Estatisticas Básicas**\n"
   ]
  },
  {
   "cell_type": "markdown",
   "metadata": {},
   "source": [
    "### <font color='green'>**2.4 Pré-Processamento**\n"
   ]
  },
  {
   "cell_type": "markdown",
   "metadata": {},
   "source": [
    "#### <font color='pink'>**2.4.1 Normalização de Texto (Tradução)**\n"
   ]
  },
  {
   "cell_type": "markdown",
   "metadata": {},
   "source": [
    "#### <font color='pink'>**2.4.2 Dados Duplicados**\n"
   ]
  },
  {
   "cell_type": "markdown",
   "metadata": {},
   "source": [
    "#### <font color='pink'>**2.4.3 Valores Faltantes**\n"
   ]
  },
  {
   "cell_type": "markdown",
   "metadata": {},
   "source": [
    "#### <font color='pink'>**2.4.4 Tratamento de Outliers**\n"
   ]
  },
  {
   "cell_type": "markdown",
   "metadata": {},
   "source": [
    "### <font color='green'>**2.5 Análise Exploratória (Gráficos e Insigths)**\n"
   ]
  },
  {
   "cell_type": "markdown",
   "metadata": {},
   "source": [
    "### <font color='green'>**2.6 Machine Learning**\n",
    "\n"
   ]
  },
  {
   "cell_type": "markdown",
   "metadata": {},
   "source": [
    "#### <font color='pink'>**2.6.1 Modelos de Classificação**\n"
   ]
  },
  {
   "cell_type": "markdown",
   "metadata": {},
   "source": [
    "#### <font color='pink'>**2.6.2 Validação de Modelo**\n"
   ]
  },
  {
   "cell_type": "markdown",
   "metadata": {},
   "source": [
    "#### <font color='pink'>**2.6.3 Comparação de Modelos (Estatísticamente)**\n"
   ]
  },
  {
   "cell_type": "markdown",
   "metadata": {},
   "source": [
    "#### <font color='pink'>**2.6.4 Otimização de Modelo**\n"
   ]
  },
  {
   "cell_type": "markdown",
   "metadata": {},
   "source": [
    "#### <font color='pink'>**2.6.5 Modelo Final**\n"
   ]
  },
  {
   "cell_type": "markdown",
   "metadata": {},
   "source": [
    "#### <font color='#ff6600'>**2.6.6 Interpretação e Avaliação Final**\n"
   ]
  },
  {
   "cell_type": "markdown",
   "metadata": {},
   "source": [
    "## <font color='yellow'>**3. Classificação Multiclasse**\n"
   ]
  },
  {
   "cell_type": "markdown",
   "metadata": {},
   "source": [
    "## "
   ]
  }
 ],
 "metadata": {
  "kernelspec": {
   "display_name": "base",
   "language": "python",
   "name": "python3"
  },
  "language_info": {
   "codemirror_mode": {
    "name": "ipython",
    "version": 3
   },
   "file_extension": ".py",
   "mimetype": "text/x-python",
   "name": "python",
   "nbconvert_exporter": "python",
   "pygments_lexer": "ipython3",
   "version": "3.10.9"
  }
 },
 "nbformat": 4,
 "nbformat_minor": 2
}
